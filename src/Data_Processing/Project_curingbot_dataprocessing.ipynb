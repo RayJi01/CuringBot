{
  "cells": [
    {
      "cell_type": "markdown",
      "metadata": {
        "id": "view-in-github",
        "colab_type": "text"
      },
      "source": [
        "<a href=\"https://colab.research.google.com/github/RayJi01/CuringBot/blob/main/Project_curingbot_dataprocessing.ipynb\" target=\"_parent\"><img src=\"https://colab.research.google.com/assets/colab-badge.svg\" alt=\"Open In Colab\"/></a>"
      ]
    },
    {
      "cell_type": "code",
      "execution_count": null,
      "metadata": {
        "colab": {
          "base_uri": "https://localhost:8080/",
          "height": 309
        },
        "id": "2w3LLAJ0QEiK",
        "outputId": "3988d7c3-06ff-40d5-9f09-c3209043591b"
      },
      "outputs": [
        {
          "ename": "FileNotFoundError",
          "evalue": "[Errno 2] No such file or directory: 'intents.json'",
          "output_type": "error",
          "traceback": [
            "\u001b[0;31m---------------------------------------------------------------------------\u001b[0m",
            "\u001b[0;31mFileNotFoundError\u001b[0m                         Traceback (most recent call last)",
            "\u001b[0;32m<ipython-input-2-b7cf0457ca5e>\u001b[0m in \u001b[0;36m<cell line: 39>\u001b[0;34m()\u001b[0m\n\u001b[1;32m     37\u001b[0m \u001b[0;34m\u001b[0m\u001b[0m\n\u001b[1;32m     38\u001b[0m \u001b[0;34m\u001b[0m\u001b[0m\n\u001b[0;32m---> 39\u001b[0;31m \u001b[0mpreprocessed_data\u001b[0m \u001b[0;34m=\u001b[0m \u001b[0mpreprocess_intents_json\u001b[0m\u001b[0;34m(\u001b[0m\u001b[0mintents_file\u001b[0m\u001b[0;34m)\u001b[0m\u001b[0;34m\u001b[0m\u001b[0;34m\u001b[0m\u001b[0m\n\u001b[0m\u001b[1;32m     40\u001b[0m \u001b[0msave_preprocessed_data\u001b[0m\u001b[0;34m(\u001b[0m\u001b[0mpreprocessed_data\u001b[0m\u001b[0;34m,\u001b[0m \u001b[0moutput_file\u001b[0m\u001b[0;34m)\u001b[0m\u001b[0;34m\u001b[0m\u001b[0;34m\u001b[0m\u001b[0m\n",
            "\u001b[0;32m<ipython-input-2-b7cf0457ca5e>\u001b[0m in \u001b[0;36mpreprocess_intents_json\u001b[0;34m(intents_file)\u001b[0m\n\u001b[1;32m      1\u001b[0m \u001b[0;32mimport\u001b[0m \u001b[0mjson\u001b[0m\u001b[0;34m\u001b[0m\u001b[0;34m\u001b[0m\u001b[0m\n\u001b[1;32m      2\u001b[0m \u001b[0;32mdef\u001b[0m \u001b[0mpreprocess_intents_json\u001b[0m\u001b[0;34m(\u001b[0m\u001b[0mintents_file\u001b[0m\u001b[0;34m)\u001b[0m\u001b[0;34m:\u001b[0m\u001b[0;34m\u001b[0m\u001b[0;34m\u001b[0m\u001b[0m\n\u001b[0;32m----> 3\u001b[0;31m     \u001b[0;32mwith\u001b[0m \u001b[0mopen\u001b[0m\u001b[0;34m(\u001b[0m\u001b[0mintents_file\u001b[0m\u001b[0;34m,\u001b[0m \u001b[0;34m\"r\"\u001b[0m\u001b[0;34m)\u001b[0m \u001b[0;32mas\u001b[0m \u001b[0mf\u001b[0m\u001b[0;34m:\u001b[0m\u001b[0;34m\u001b[0m\u001b[0;34m\u001b[0m\u001b[0m\n\u001b[0m\u001b[1;32m      4\u001b[0m         \u001b[0mdata\u001b[0m \u001b[0;34m=\u001b[0m \u001b[0mjson\u001b[0m\u001b[0;34m.\u001b[0m\u001b[0mload\u001b[0m\u001b[0;34m(\u001b[0m\u001b[0mf\u001b[0m\u001b[0;34m)\u001b[0m\u001b[0;34m\u001b[0m\u001b[0;34m\u001b[0m\u001b[0m\n\u001b[1;32m      5\u001b[0m \u001b[0;34m\u001b[0m\u001b[0m\n",
            "\u001b[0;31mFileNotFoundError\u001b[0m: [Errno 2] No such file or directory: 'intents.json'"
          ]
        }
      ],
      "source": [
        "import json\n",
        "def preprocess_intents_json(intents_file):\n",
        "    with open(intents_file, \"r\") as f:\n",
        "        data = json.load(f)\n",
        "\n",
        "    preprocessed_data = []\n",
        "\n",
        "    for intent in data[\"intents\"]:\n",
        "        for pattern in intent[\"patterns\"]:\n",
        "            preprocessed_data.append(f\"User: {pattern}\\n\")\n",
        "            for response in intent[\"responses\"]:\n",
        "                preprocessed_data.append(f\"Assistant: {response}\\n\")\n",
        "\n",
        "    txt=\"\".join(preprocessed_data)\n",
        "    # Space out the punctuations\n",
        "    txt=txt.replace(',',' , ').replace('.',' . ').replace('?',' ? ').replace('!',' ! ')\n",
        "    txt=txt.replace('  ',' ')\n",
        "    # Add <s> to beginning of text\n",
        "    txt=txt.replace(\"User: \",'User: <s> ')\n",
        "    txt=txt.replace(\"Assistant: \",'Assistant: <s> ')\n",
        "    # Add <s> and </s> to every middle sentences\n",
        "    txt=txt.replace(\"! \",'! </s> <s> ')\n",
        "    txt=txt.replace(\"...... \",'...... </s> <s> ')\n",
        "    txt=txt.replace(\". \",'. </s> <s> ')\n",
        "    txt=txt.replace(\"? \",'? </s> <s> ')\n",
        "    txt=txt.replace(\" <s> \\n\",'\\n')\n",
        "    return txt\n",
        "\n",
        "\n",
        "def save_preprocessed_data(preprocessed_data, output_file):\n",
        "    with open(output_file, \"w\") as f:\n",
        "        f.write(preprocessed_data)\n",
        "\n",
        "\n",
        "intents_file = \"intents.json\"\n",
        "output_file = \"mental_health_data.txt\"\n",
        "\n",
        "\n",
        "preprocessed_data = preprocess_intents_json(intents_file)\n",
        "save_preprocessed_data(preprocessed_data, output_file)"
      ]
    },
    {
      "cell_type": "code",
      "execution_count": null,
      "metadata": {
        "colab": {
          "base_uri": "https://localhost:8080/",
          "height": 275
        },
        "id": "3Z6uFJFDdii_",
        "outputId": "e4ed57c7-fb2b-4e03-9754-e335b8d4e16a"
      },
      "outputs": [
        {
          "ename": "IndexError",
          "evalue": "list index out of range",
          "output_type": "error",
          "traceback": [
            "\u001b[0;31m---------------------------------------------------------------------------\u001b[0m",
            "\u001b[0;31mIndexError\u001b[0m                                Traceback (most recent call last)",
            "\u001b[0;32m<ipython-input-13-e4da4717719e>\u001b[0m in \u001b[0;36m<cell line: 1>\u001b[0;34m()\u001b[0m\n\u001b[0;32m----> 1\u001b[0;31m \u001b[0mpreprocessed_data_csv\u001b[0m\u001b[0;34m=\u001b[0m\u001b[0mpreprocess_csv\u001b[0m\u001b[0;34m(\u001b[0m\u001b[0;34m\"train-2.csv\"\u001b[0m\u001b[0;34m)\u001b[0m\u001b[0;34m\u001b[0m\u001b[0;34m\u001b[0m\u001b[0m\n\u001b[0m\u001b[1;32m      2\u001b[0m \u001b[0msave_preprocessed_data\u001b[0m\u001b[0;34m(\u001b[0m\u001b[0mpreprocessed_data_csv\u001b[0m\u001b[0;34m,\u001b[0m \u001b[0;34m\"dataset3-3512.txt\"\u001b[0m\u001b[0;34m)\u001b[0m\u001b[0;34m\u001b[0m\u001b[0;34m\u001b[0m\u001b[0m\n",
            "\u001b[0;32m<ipython-input-12-2c663f4e70b2>\u001b[0m in \u001b[0;36mpreprocess_csv\u001b[0;34m(csv_file)\u001b[0m\n\u001b[1;32m      8\u001b[0m       \u001b[0mcount\u001b[0m\u001b[0;34m+=\u001b[0m\u001b[0;36m1\u001b[0m\u001b[0;34m\u001b[0m\u001b[0;34m\u001b[0m\u001b[0m\n\u001b[1;32m      9\u001b[0m       \u001b[0mpreprocessed_data_csv\u001b[0m\u001b[0;34m.\u001b[0m\u001b[0mappend\u001b[0m\u001b[0;34m(\u001b[0m\u001b[0;34mf\"User: {lines[0]}\\n\"\u001b[0m\u001b[0;34m)\u001b[0m\u001b[0;34m\u001b[0m\u001b[0;34m\u001b[0m\u001b[0m\n\u001b[0;32m---> 10\u001b[0;31m       \u001b[0mpreprocessed_data_csv\u001b[0m\u001b[0;34m.\u001b[0m\u001b[0mappend\u001b[0m\u001b[0;34m(\u001b[0m\u001b[0;34mf\"Assistant: {lines[1]}\\n\"\u001b[0m\u001b[0;34m)\u001b[0m\u001b[0;34m\u001b[0m\u001b[0;34m\u001b[0m\u001b[0m\n\u001b[0m\u001b[1;32m     11\u001b[0m   \u001b[0mprint\u001b[0m\u001b[0;34m(\u001b[0m\u001b[0;34mf\"The document contains {count} entries\"\u001b[0m\u001b[0;34m)\u001b[0m\u001b[0;34m\u001b[0m\u001b[0;34m\u001b[0m\u001b[0m\n\u001b[1;32m     12\u001b[0m   \u001b[0;32mreturn\u001b[0m\u001b[0;34m\"\"\u001b[0m\u001b[0;34m.\u001b[0m\u001b[0mjoin\u001b[0m\u001b[0;34m(\u001b[0m\u001b[0mpreprocessed_data_csv\u001b[0m\u001b[0;34m)\u001b[0m\u001b[0;34m\u001b[0m\u001b[0;34m\u001b[0m\u001b[0m\n",
            "\u001b[0;31mIndexError\u001b[0m: list index out of range"
          ]
        }
      ],
      "source": [
        "preprocessed_data_csv=preprocess_csv(\"train-2.csv\")\n",
        "save_preprocessed_data(preprocessed_data_csv, \"dataset3-3512.txt\")"
      ]
    },
    {
      "cell_type": "code",
      "execution_count": null,
      "metadata": {
        "colab": {
          "base_uri": "https://localhost:8080/",
          "height": 309
        },
        "id": "kSrt7nv3cYI4",
        "outputId": "a01f103a-6adf-4af9-c728-a004782a0221"
      },
      "outputs": [
        {
          "ename": "FileNotFoundError",
          "evalue": "[Errno 2] No such file or directory: 'train.csv'",
          "output_type": "error",
          "traceback": [
            "\u001b[0;31m---------------------------------------------------------------------------\u001b[0m",
            "\u001b[0;31mFileNotFoundError\u001b[0m                         Traceback (most recent call last)",
            "\u001b[0;32m<ipython-input-4-430a38a7004d>\u001b[0m in \u001b[0;36m<cell line: 32>\u001b[0;34m()\u001b[0m\n\u001b[1;32m     30\u001b[0m \u001b[0;34m\u001b[0m\u001b[0m\n\u001b[1;32m     31\u001b[0m \u001b[0;31m# os.remove(\"dataset2-3512.txt\")\u001b[0m\u001b[0;34m\u001b[0m\u001b[0;34m\u001b[0m\u001b[0m\n\u001b[0;32m---> 32\u001b[0;31m \u001b[0mpreprocessed_data_csv\u001b[0m\u001b[0;34m=\u001b[0m\u001b[0mpreprocess_csv\u001b[0m\u001b[0;34m(\u001b[0m\u001b[0;34m\"train.csv\"\u001b[0m\u001b[0;34m)\u001b[0m\u001b[0;34m\u001b[0m\u001b[0;34m\u001b[0m\u001b[0m\n\u001b[0m\u001b[1;32m     33\u001b[0m \u001b[0msave_preprocessed_data\u001b[0m\u001b[0;34m(\u001b[0m\u001b[0mpreprocessed_data_csv\u001b[0m\u001b[0;34m,\u001b[0m \u001b[0;34m\"dataset2-3512.txt\"\u001b[0m\u001b[0;34m)\u001b[0m\u001b[0;34m\u001b[0m\u001b[0;34m\u001b[0m\u001b[0m\n",
            "\u001b[0;32m<ipython-input-4-430a38a7004d>\u001b[0m in \u001b[0;36mpreprocess_csv\u001b[0;34m(csv_file)\u001b[0m\n\u001b[1;32m      4\u001b[0m   \u001b[0mpreprocessed_data_csv\u001b[0m \u001b[0;34m=\u001b[0m \u001b[0;34m[\u001b[0m\u001b[0;34m]\u001b[0m\u001b[0;34m\u001b[0m\u001b[0;34m\u001b[0m\u001b[0m\n\u001b[1;32m      5\u001b[0m   \u001b[0mcount\u001b[0m\u001b[0;34m=\u001b[0m\u001b[0;34m-\u001b[0m\u001b[0;36m1\u001b[0m\u001b[0;34m\u001b[0m\u001b[0;34m\u001b[0m\u001b[0m\n\u001b[0;32m----> 6\u001b[0;31m   \u001b[0;32mwith\u001b[0m \u001b[0mopen\u001b[0m\u001b[0;34m(\u001b[0m\u001b[0mcsv_file\u001b[0m\u001b[0;34m,\u001b[0m \u001b[0mmode\u001b[0m \u001b[0;34m=\u001b[0m\u001b[0;34m'r'\u001b[0m\u001b[0;34m)\u001b[0m\u001b[0;32mas\u001b[0m \u001b[0mfile\u001b[0m\u001b[0;34m:\u001b[0m\u001b[0;34m\u001b[0m\u001b[0;34m\u001b[0m\u001b[0m\n\u001b[0m\u001b[1;32m      7\u001b[0m     \u001b[0mcsvFile\u001b[0m \u001b[0;34m=\u001b[0m \u001b[0mcsv\u001b[0m\u001b[0;34m.\u001b[0m\u001b[0mreader\u001b[0m\u001b[0;34m(\u001b[0m\u001b[0mfile\u001b[0m\u001b[0;34m)\u001b[0m\u001b[0;34m\u001b[0m\u001b[0;34m\u001b[0m\u001b[0m\n\u001b[1;32m      8\u001b[0m     \u001b[0;32mfor\u001b[0m \u001b[0mlines\u001b[0m \u001b[0;32min\u001b[0m \u001b[0mcsvFile\u001b[0m\u001b[0;34m:\u001b[0m\u001b[0;34m\u001b[0m\u001b[0;34m\u001b[0m\u001b[0m\n",
            "\u001b[0;31mFileNotFoundError\u001b[0m: [Errno 2] No such file or directory: 'train.csv'"
          ]
        }
      ],
      "source": [
        "import csv\n",
        "import os\n",
        "def preprocess_csv(csv_file):\n",
        "  preprocessed_data_csv = []\n",
        "  count=-1\n",
        "  with open(csv_file, mode ='r')as file:\n",
        "    csvFile = csv.reader(file)\n",
        "    for lines in csvFile:\n",
        "      count+=1\n",
        "      if count<1:\n",
        "        continue\n",
        "      lines[0]=lines[0].replace(\"   \",\" \").replace(\"\\n\",\"\")\n",
        "      preprocessed_data_csv.append(f\"User: {lines[0]}\\n\")\n",
        "      preprocessed_data_csv.append(f\"Assistant: {lines[1]}\\n\")\n",
        "  print(f\"The document contains {count} entries\")\n",
        "  txt=\"\".join(preprocessed_data_csv)\n",
        "  # Space out the punctuations\n",
        "  txt=txt.replace(',',' , ').replace('.',' . ').replace('?',' ? ').replace('!',' ! ')\n",
        "  txt=txt.replace('  ',' ')\n",
        "  # Add <s> to beginning of text\n",
        "  txt=txt.replace(\"User: \",'User: <s> ')\n",
        "  txt=txt.replace(\"Assistant: \",'Assistant: <s> ')\n",
        "  # Add <s> and </s> to every middle sentences\n",
        "  txt=txt.replace(\"! \",'! </s> <s> ')\n",
        "  txt=txt.replace(\"...... \",'...... </s> <s> ')\n",
        "  txt=txt.replace(\". \",'. </s> <s> ')\n",
        "  txt=txt.replace(\"? \",'? </s> <s> ')\n",
        "  txt=txt.replace(\" <s> \\n\",'\\n')\n",
        "  return txt\n",
        "\n",
        "# os.remove(\"dataset2-3512.txt\")\n",
        "preprocessed_data_csv=preprocess_csv(\"train.csv\")\n",
        "save_preprocessed_data(preprocessed_data_csv, \"dataset2-3512.txt\")"
      ]
    },
    {
      "cell_type": "code",
      "execution_count": null,
      "metadata": {
        "colab": {
          "background_save": true
        },
        "id": "3bK4HDw5gy95"
      },
      "outputs": [],
      "source": [
        "import re\n",
        "preprocessed_dataset_3=\"\"\n",
        "faulty_entries=[]\n",
        "quote_pattern = r'\"([^\"]*\\s+[^\"]*)\"'\n",
        "\n",
        "# Replacement function to strip off quotation marks\n",
        "def remove_quotes(match):\n",
        "    return match.group(1)\n",
        "\n",
        "with open(\"train-2.csv\", mode ='r')as file:\n",
        "    csvFile = csv.reader(file)\n",
        "    count=0\n",
        "    for lines in csvFile:\n",
        "      if lines[0]==\"conversations\":\n",
        "        continue\n",
        "      # Change all value value parentheses to single quote to avoid escaping\n",
        "      txt=lines[0].replace(\"'value\\': \\\"\",'\\'value\\': \\'')\n",
        "      txt=txt.replace(\"\\\"}\",'\\'}')\n",
        "      # Remove all quotes that are not topped on single words\n",
        "      txt = re.sub(quote_pattern, remove_quotes, txt)\n",
        "      # Change all double quotes to escaped double quotes\n",
        "      txt=txt.replace(\"\\\"\",'\\\\\"')\n",
        "      # Change all escaped single quotes back to single quotes\n",
        "      txt=txt.replace(\"\\\\'\",\"'\")\n",
        "      # Change all designated places' single quotes to double quots\n",
        "      txt=txt.replace(\"'from'\",'\"from\"')\n",
        "      txt=txt.replace(\"'value'\",'\"value\"')\n",
        "      txt=txt.replace(\"\\\"value\\\": '\",'\"value\": \"')\n",
        "      txt=txt.replace(\"'}\",'\"}')\n",
        "      txt=txt.replace(\"'human'\",'\"human\"')\n",
        "      txt=txt.replace(\"'gpt'\",'\"gpt\"')\n",
        "      # Space out the punctuations\n",
        "      txt=txt.replace(',',' , ').replace('.',' . ').replace('?',' ? ').replace('!',' ! ')\n",
        "      txt=txt.replace('  ',' ')\n",
        "      # Add <s> to beginning of text\n",
        "      txt=txt.replace(\"\\\"value\\\": \\\"\",'\"value\": \"<s> ')\n",
        "      # Add <s> and </s> to every middle sentences\n",
        "      txt=txt.replace(\"! \",'! </s> <s> ')\n",
        "      txt=txt.replace(\"...... \",'...... </s> <s> ')\n",
        "      txt=txt.replace(\". \",'. </s> <s> ')\n",
        "      txt=txt.replace(\"? \",'? </s> <s> ')\n",
        "      txt=txt.replace(\" <s> \\\"}\",'\"}')\n",
        "      txt=txt[1:-1].split(\"\\n \")\n",
        "      for entry in txt:\n",
        "        if entry[-1]!='}':\n",
        "          entry+='}'\n",
        "        if entry[-2]!='\"':\n",
        "          entry=entry[0:-1]+'\"}'\n",
        "        try:\n",
        "          entry_dict=json.loads(entry) # Remove all quotation marks as they can be difficult to tokenize\n",
        "          count+=1\n",
        "          if entry_dict['from']==\"human\":\n",
        "            preprocessed_dataset_3+=(f\"User: {entry_dict['value']}\\n\")\n",
        "          else:\n",
        "            preprocessed_dataset_3+=(f\"Assistant: {entry_dict['value']}\\n\")\n",
        "        except:\n",
        "          faulty_entries.append(entry)\n",
        "\n",
        "save_preprocessed_data(preprocessed_dataset_3, f\"dataset3-{count}.txt\")\n"
      ]
    },
    {
      "cell_type": "code",
      "execution_count": null,
      "metadata": {
        "colab": {
          "base_uri": "https://localhost:8080/"
        },
        "id": "7gQQ5hLihAjZ",
        "outputId": "952247d0-4e01-4453-ad90-d5930b894a28"
      },
      "outputs": [
        {
          "data": {
            "text/plain": [
              "{'from': 'human',\n",
              " 'value': \"I've been feeling so sad and overwhelmed lately. Work has become such a massive source of stress for me.\"}"
            ]
          },
          "execution_count": 63,
          "metadata": {},
          "output_type": "execute_result"
        }
      ],
      "source": [
        "txt=line[0].replace(\"\\'from\\'\",'\"from\"')\n",
        "txt=txt.replace(\"\\'value\\'\",'\"value\"')\n",
        "txt=txt.replace(\"\\'human\\'\",'\"human\"')\n",
        "txt=txt.replace(\"\\'gpt\\'\",'\"gpt\"')\n",
        "txt=txt[1:-2].split(\"\\n \")\n",
        "json.loads(txt[0])\n",
        "# txt[0]"
      ]
    },
    {
      "cell_type": "code",
      "execution_count": null,
      "metadata": {
        "colab": {
          "base_uri": "https://localhost:8080/"
        },
        "id": "2TXhJ6syiwL_",
        "outputId": "919a0a1e-6402-4114-8e5c-ff0a9c590b7a"
      },
      "outputs": [
        {
          "name": "stdout",
          "output_type": "stream",
          "text": [
            "0\n"
          ]
        }
      ],
      "source": [
        "print(len(faulty_entries))"
      ]
    },
    {
      "cell_type": "code",
      "execution_count": null,
      "metadata": {
        "colab": {
          "base_uri": "https://localhost:8080/"
        },
        "id": "PYR13p9Yix8Z",
        "outputId": "3df3ea0b-6dcf-4232-b2df-3aec339ec55d"
      },
      "outputs": [
        {
          "name": "stdout",
          "output_type": "stream",
          "text": [
            "840399\n"
          ]
        }
      ],
      "source": [
        "print(count)"
      ]
    },
    {
      "cell_type": "code",
      "execution_count": null,
      "metadata": {
        "colab": {
          "base_uri": "https://localhost:8080/"
        },
        "id": "AWMcXztx3n7o",
        "outputId": "39e182e3-642a-40cc-a9da-0aa48e26fdeb"
      },
      "outputs": [
        {
          "data": {
            "text/plain": [
              "['[{\\'from\\': \\'human\\', \\'value\\': \"I\\'ve been feeling so sad and overwhelmed lately. Work has become such a massive source of stress for me.\"}\\n {\\'from\\': \\'gpt\\', \\'value\\': \"Hey there, I\\'m here to listen and support you. It sounds like work has been really challenging lately. Can you tell me more about what\\'s been going on?\"}\\n {\\'from\\': \\'human\\', \\'value\\': \"I recently got a promotion at work, which I thought would be exciting. But the added responsibilities and pressure have just taken a toll on my mental health. It\\'s been a really moving experience for me.\"}\\n {\\'from\\': \\'gpt\\', \\'value\\': \"I can understand how it can be overwhelming when we\\'re faced with higher expectations. It\\'s okay to acknowledge your emotions and allow yourself to feel sad in this situation. It\\'s an important part of the healing process. What specific challenges have you been facing at work?\"}\\n {\\'from\\': \\'human\\', \\'value\\': \"Well, the workload has increased significantly, and I find it hard to maintain a work-life balance. I\\'ve been staying late at the office, and it feels like I\\'m constantly under a pile of never-ending tasks. It\\'s just so hard to keep up, and it\\'s impacting my overall well-being.\"}\\n {\\'from\\': \\'gpt\\', \\'value\\': \"It sounds like you\\'re dealing with a lot of pressure to perform and succeed. Remember, it\\'s crucial to take care of yourself, both mentally and physically. A healthy work-life balance is essential. Have you tried any strategies to cope with the added workload?\"}\\n {\\'from\\': \\'human\\', \\'value\\': \"I\\'ve been trying to prioritize my tasks and delegate whenever possible. I\\'ve also started practicing meditation during my breaks to help manage stress. But sometimes, it feels like no matter what I do, I can\\'t catch a break. It\\'s been a constant struggle.\"}\\n {\\'from\\': \\'gpt\\', \\'value\\': \"It\\'s great to hear that you\\'re already implementing some helpful strategies. Remember, progress takes time, and it\\'s okay to have setbacks. In addition to what you\\'re already doing, I encourage you to also communicate with your supervisor or team about your workload and discuss possible solutions together.\"}\\n {\\'from\\': \\'human\\', \\'value\\': \"You\\'re right. I haven\\'t really opened up about my struggles to my coworkers or supervisor. I guess I\\'ve been afraid of appearing weak or incapable. How can I approach this discussion without feeling vulnerable?\"}\\n {\\'from\\': \\'gpt\\', \\'value\\': \"It\\'s completely normal to feel that way, but remember, asking for support is a strength, not a weakness. Start by scheduling a conversation with your supervisor or a trusted colleague in a private and comfortable setting. Be honest about your challenges and express your willingness to find solutions together. Remember, you\\'re not alone in this.\"}\\n {\\'from\\': \\'human\\', \\'value\\': \"Thank you for your understanding and guidance. I appreciate the reminder that I don\\'t have to face this alone. I\\'ll gather my courage and initiate that conversation soon. I need to prioritize my well-being and find a healthier balance.\"}\\n {\\'from\\': \\'gpt\\', \\'value\\': \"You\\'re very welcome! I\\'m here to support you every step of the way. Taking care of yourself should always be a priority. Remember to be kind to yourself and celebrate your progress, no matter how small it may seem. You\\'ve got this!\"}]',\n",
              " 'identity_0']"
            ]
          },
          "execution_count": 105,
          "metadata": {},
          "output_type": "execute_result"
        }
      ],
      "source": [
        "line"
      ]
    },
    {
      "cell_type": "code",
      "execution_count": null,
      "metadata": {
        "id": "tQwaUqwN7W8w"
      },
      "outputs": [],
      "source": []
    }
  ],
  "metadata": {
    "colab": {
      "provenance": [],
      "include_colab_link": true
    },
    "kernelspec": {
      "display_name": "Python 3",
      "name": "python3"
    },
    "language_info": {
      "name": "python"
    }
  },
  "nbformat": 4,
  "nbformat_minor": 0
}